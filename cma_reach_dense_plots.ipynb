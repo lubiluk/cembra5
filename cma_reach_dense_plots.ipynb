{
 "cells": [
  {
   "cell_type": "code",
   "execution_count": 2,
   "metadata": {},
   "outputs": [],
   "source": [
    "import pandas as pd\n",
    "import matplotlib.pyplot as plt\n",
    "%matplotlib inline"
   ]
  },
  {
   "cell_type": "code",
   "execution_count": 15,
   "metadata": {},
   "outputs": [
    {
     "data": {
      "text/html": [
       "<div>\n",
       "<style scoped>\n",
       "    .dataframe tbody tr th:only-of-type {\n",
       "        vertical-align: middle;\n",
       "    }\n",
       "\n",
       "    .dataframe tbody tr th {\n",
       "        vertical-align: top;\n",
       "    }\n",
       "\n",
       "    .dataframe thead th {\n",
       "        text-align: right;\n",
       "    }\n",
       "</style>\n",
       "<table border=\"1\" class=\"dataframe\">\n",
       "  <thead>\n",
       "    <tr style=\"text-align: right;\">\n",
       "      <th></th>\n",
       "      <th>generation</th>\n",
       "      <th>best_fitness</th>\n",
       "      <th>mean_fitness</th>\n",
       "      <th>iteration_time_ms</th>\n",
       "      <th>population_size</th>\n",
       "    </tr>\n",
       "  </thead>\n",
       "  <tbody>\n",
       "    <tr>\n",
       "      <th>count</th>\n",
       "      <td>4900.00000</td>\n",
       "      <td>4900.000000</td>\n",
       "      <td>4900.000000</td>\n",
       "      <td>4900.000000</td>\n",
       "      <td>4900.0</td>\n",
       "    </tr>\n",
       "    <tr>\n",
       "      <th>mean</th>\n",
       "      <td>2449.50000</td>\n",
       "      <td>1.488619</td>\n",
       "      <td>2.702991</td>\n",
       "      <td>1681.387565</td>\n",
       "      <td>25.0</td>\n",
       "    </tr>\n",
       "    <tr>\n",
       "      <th>std</th>\n",
       "      <td>1414.65249</td>\n",
       "      <td>2.103438</td>\n",
       "      <td>2.674406</td>\n",
       "      <td>856.400243</td>\n",
       "      <td>0.0</td>\n",
       "    </tr>\n",
       "    <tr>\n",
       "      <th>min</th>\n",
       "      <td>0.00000</td>\n",
       "      <td>0.315982</td>\n",
       "      <td>0.666813</td>\n",
       "      <td>557.790041</td>\n",
       "      <td>25.0</td>\n",
       "    </tr>\n",
       "    <tr>\n",
       "      <th>25%</th>\n",
       "      <td>1224.75000</td>\n",
       "      <td>0.503187</td>\n",
       "      <td>1.119079</td>\n",
       "      <td>1050.514758</td>\n",
       "      <td>25.0</td>\n",
       "    </tr>\n",
       "    <tr>\n",
       "      <th>50%</th>\n",
       "      <td>2449.50000</td>\n",
       "      <td>0.733093</td>\n",
       "      <td>1.587664</td>\n",
       "      <td>1455.125690</td>\n",
       "      <td>25.0</td>\n",
       "    </tr>\n",
       "    <tr>\n",
       "      <th>75%</th>\n",
       "      <td>3674.25000</td>\n",
       "      <td>1.622642</td>\n",
       "      <td>3.449782</td>\n",
       "      <td>2043.390036</td>\n",
       "      <td>25.0</td>\n",
       "    </tr>\n",
       "    <tr>\n",
       "      <th>max</th>\n",
       "      <td>4899.00000</td>\n",
       "      <td>13.513347</td>\n",
       "      <td>29.893612</td>\n",
       "      <td>8741.308928</td>\n",
       "      <td>25.0</td>\n",
       "    </tr>\n",
       "  </tbody>\n",
       "</table>\n",
       "</div>"
      ],
      "text/plain": [
       "       generation  best_fitness  mean_fitness  iteration_time_ms  \\\n",
       "count  4900.00000   4900.000000   4900.000000        4900.000000   \n",
       "mean   2449.50000      1.488619      2.702991        1681.387565   \n",
       "std    1414.65249      2.103438      2.674406         856.400243   \n",
       "min       0.00000      0.315982      0.666813         557.790041   \n",
       "25%    1224.75000      0.503187      1.119079        1050.514758   \n",
       "50%    2449.50000      0.733093      1.587664        1455.125690   \n",
       "75%    3674.25000      1.622642      3.449782        2043.390036   \n",
       "max    4899.00000     13.513347     29.893612        8741.308928   \n",
       "\n",
       "       population_size  \n",
       "count           4900.0  \n",
       "mean              25.0  \n",
       "std                0.0  \n",
       "min               25.0  \n",
       "25%               25.0  \n",
       "50%               25.0  \n",
       "75%               25.0  \n",
       "max               25.0  "
      ]
     },
     "execution_count": 15,
     "metadata": {},
     "output_type": "execute_result"
    }
   ],
   "source": [
    "df1 = pd.read_csv('data/exp_cma_reach_dense-net_32_32-cpu_1.csv', delimiter=\" \")\n",
    "df24 = pd.read_csv('data/exp_cma_reach_dense-net_32_32-cpu_24.csv', delimiter=\" \")\n",
    "\n",
    "df24.describe()"
   ]
  },
  {
   "cell_type": "code",
   "execution_count": 19,
   "metadata": {},
   "outputs": [
    {
     "data": {
      "text/plain": [
       "<AxesSubplot:>"
      ]
     },
     "execution_count": 19,
     "metadata": {},
     "output_type": "execute_result"
    },
    {
     "data": {
      "image/png": "[encoded data removed]",
      "text/plain": [
       "<Figure size 432x288 with 1 Axes>"
      ]
     },
     "metadata": {
      "needs_background": "light"
     },
     "output_type": "display_data"
    }
   ],
   "source": [
    "df1[\"mean_fitness\"].plot()"
   ]
  },
  {
   "cell_type": "code",
   "execution_count": 20,
   "metadata": {},
   "outputs": [
    {
     "data": {
      "text/plain": [
       "<AxesSubplot:>"
      ]
     },
     "execution_count": 20,
     "metadata": {},
     "output_type": "execute_result"
    },
    {
     "data": {
      "image/png": "[encoded data removed]",
      "text/plain": [
       "<Figure size 432x288 with 1 Axes>"
      ]
     },
     "metadata": {
      "needs_background": "light"
     },
     "output_type": "display_data"
    }
   ],
   "source": [
    "df24[\"mean_fitness\"].plot()"
   ]
  },
  {
   "cell_type": "code",
   "execution_count": 24,
   "metadata": {},
   "outputs": [
    {
     "data": {
      "text/plain": [
       "<AxesSubplot:>"
      ]
     },
     "execution_count": 24,
     "metadata": {},
     "output_type": "execute_result"
    },
    {
     "data": {
      "image/png": "[encoded data removed]",
      "text/plain": [
       "<Figure size 432x288 with 1 Axes>"
      ]
     },
     "metadata": {
      "needs_background": "light"
     },
     "output_type": "display_data"
    }
   ],
   "source": [
    "df1[\"iteration_time_ms\"].plot()\n",
    "df24[\"iteration_time_ms\"].plot()"
   ]
  },
  {
   "cell_type": "code",
   "execution_count": null,
   "metadata": {},
   "outputs": [],
   "source": []
  }
 ],
 "metadata": {
  "interpreter": {
   "hash": "5984c07bd85a09704efeebc43c280456997f3d9e1810f10980d19f89f173e200"
  },
  "kernelspec": {
   "display_name": "Python 3.9.10 64-bit",
   "language": "python",
   "name": "python3"
  },
  "language_info": {
   "codemirror_mode": {
    "name": "ipython",
    "version": 3
   },
   "file_extension": ".py",
   "mimetype": "text/x-python",
   "name": "python",
   "nbconvert_exporter": "python",
   "pygments_lexer": "ipython3",
   "version": "3.9.10"
  },
  "orig_nbformat": 4
 },
 "nbformat": 4,
 "nbformat_minor": 2
}
